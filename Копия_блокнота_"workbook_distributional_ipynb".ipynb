{
  "cells": [
    {
      "cell_type": "markdown",
      "metadata": {
        "id": "view-in-github",
        "colab_type": "text"
      },
      "source": [
        "<a href=\"https://colab.research.google.com/github/valeriia-nekrasova/compling/blob/main/%D0%9A%D0%BE%D0%BF%D0%B8%D1%8F_%D0%B1%D0%BB%D0%BE%D0%BA%D0%BD%D0%BE%D1%82%D0%B0_%22workbook_distributional_ipynb%22.ipynb\" target=\"_parent\"><img src=\"https://colab.research.google.com/assets/colab-badge.svg\" alt=\"Open In Colab\"/></a>"
      ]
    },
    {
      "cell_type": "markdown",
      "source": [
        "```\n",
        "Курс \"Компьютерная лингвистика\" | НИУ ВШЭ Санкт-Петербург\n",
        "(c) В.И. Фирсанова\n",
        "```"
      ],
      "metadata": {
        "id": "DmQEH9ISfSy2"
      }
    },
    {
      "cell_type": "markdown",
      "metadata": {
        "id": "ZyHV4VPUwfwy"
      },
      "source": [
        "# Практика: Введение в дистрибутивную семантику и знакомство с Google Colab"
      ]
    },
    {
      "cell_type": "markdown",
      "metadata": {
        "id": "nO3bXBygoQM5"
      },
      "source": [
        "## Welcome to Google Colab"
      ]
    },
    {
      "cell_type": "markdown",
      "metadata": {
        "id": "vuiAYVtAu6bw"
      },
      "source": [
        "**Jupyter-ноутбук — интерактивная среда разработки**\n",
        "\n",
        "Свойства Jupyter\n",
        "\n",
        "* работа в ячейках\n",
        "  * мгновенное отображение результата работы фрагментов кода\n",
        "  * можно разбить выполнение кода на части\n",
        "  * ячейки можно запускать в произвольном порядке\n",
        "\n",
        "* код и текст\n",
        "  * Jupyter поддерживает 2 типа ячеек - текстовые и кодовые\n",
        "  * всю вашу работу можно документировать в текстовых ячейках\n",
        "\n",
        "* визуализация\n",
        "  * табличных данных\n",
        "  * графиков\n",
        "  * \\+ красивый вывод данных\n",
        "\n",
        "* область применения\n",
        "  * машинное обучение\n",
        "  * дата саенс\n",
        "  * большие данные\n",
        "  * научные вычисления\n",
        "  * документация"
      ]
    },
    {
      "cell_type": "markdown",
      "metadata": {
        "id": "bbmjRU0HxxO9"
      },
      "source": [
        "**Интерфейс Google Colab — разновидность Jupyter-ноутбука**\n",
        "\n",
        "Основные отличия\n",
        "\n",
        "* интеграция с внешними сервисами\n",
        "  * GitHub (можно напрямую скачивать и загружать ноутбуки)\n",
        "  * Google Drive (там можно хранить данные, модели; нужно подключить свой диск к ноутбуку)\n",
        "  * NEW! генеративный ИИ может помочь вам с написанием кода\n",
        "\n",
        "* аппаратный ускоритель\n",
        "  * GPU / TPU используется для машинного обучения и других ресурсоёмких вычислений\n",
        "  * бесплатный доступ / недорогая подписка\n",
        "  * см. меню `Runtime` - `Change runtime type`"
      ]
    },
    {
      "cell_type": "markdown",
      "metadata": {
        "id": "-TEfz_pT0P7G"
      },
      "source": [
        "**Основы работы с интерфейсом Google Colab**\n",
        "\n",
        "***Открыть файл***\n",
        "\n",
        "Горячие клавиши: `Ctrl + O` или `Cmd + O`\n",
        "\n",
        "Опции:\n",
        "\n",
        "* загружаем файл *.ipynb с локального диска\n",
        "* открываем файл *.ipynb с Google-диска\n",
        "* открываем файл *.ipynb с GitHub (URL, поиск пользователя)\n",
        "* открываем из GitHub с помощью кнопки `Open in Colab`\n",
        "\n",
        "![image.png](data:image/png;base64,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)\n",
        "\n",
        "***Сохранить файл***\n",
        "\n",
        "Горячие клавиши: сохранить на Google-диске `Ctrl + S` или `Cmd + S`\n",
        "\n",
        "Возможности:\n",
        "\n",
        "* сохранить копию в репозитории на GitHub (`File` - `Save a copy in GitHub`)\n",
        "* сохранить GitHub Gist\n",
        "* скачать *.ipynb (Jupyter-ноутбук)\n",
        "* скачать *.py (скрипт на Python без деления на ячейки и текстовой информации)\n",
        "\n",
        "***Внести изменения в файл***\n",
        "\n",
        "Можно создать кодовую или текстовую ячейку.\n",
        "\n",
        "![image.png](data:image/png;base64,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)\n",
        "\n",
        "В кодовой ячейке можно ввести код на языке Python или команды shell.\n",
        "\n",
        "Горячие клавиши:\n",
        "- новая ячейка `Ctrl + M + B` или `Cmd + M + B`\n",
        "- запустить ячейку `Shift + Enter`\n",
        "\n",
        "\n",
        "![image.png](data:image/png;base64,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)\n",
        "\n",
        "Ячейка содержит следующую информацию\n",
        "- вывод данных\n",
        "- время исполнения кода\n",
        "- порядковый номер ячейки по ходу исполнения"
      ]
    },
    {
      "cell_type": "code",
      "execution_count": null,
      "metadata": {
        "colab": {
          "base_uri": "https://localhost:8080/"
        },
        "id": "dZiYTH7nxwhO",
        "outputId": "ac6a76cc-58a7-40b3-8ff3-5e6aa326239d"
      },
      "outputs": [
        {
          "output_type": "stream",
          "name": "stdout",
          "text": [
            "hello, world!\n"
          ]
        }
      ],
      "source": [
        "print('hello, world!')"
      ]
    },
    {
      "cell_type": "markdown",
      "metadata": {
        "id": "btcSzVGq_PtI"
      },
      "source": [
        "Текстовые ячейки оформляются как Markdown.\n",
        "\n",
        "См. [руководство по работе с Markdown](https://github.com/vifirsanova/compling/blob/main/markdown.md/).\n",
        "\n",
        "Руководство можно использовать для оформления файла README.md в вашем репозитории на GitHub."
      ]
    },
    {
      "cell_type": "markdown",
      "metadata": {
        "id": "AUWFvvLHoTgC"
      },
      "source": [
        "## Дистрибутивная семантика"
      ]
    },
    {
      "cell_type": "markdown",
      "metadata": {
        "id": "PPmc9wdBma4Z"
      },
      "source": [
        "[Efficient Estimation of Word Representations in\n",
        "Vector Space (Mikolov et al., 2013)](https://arxiv.org/pdf/1301.3781.pdf)"
      ]
    },
    {
      "cell_type": "markdown",
      "metadata": {
        "id": "DpSEGmgYoWid"
      },
      "source": [
        "### **Задача 1.** Обучаем эмбеддинги с Gensim"
      ]
    },
    {
      "cell_type": "markdown",
      "metadata": {
        "id": "YW1aas-vK1fX"
      },
      "source": [
        "Что такое Gensim?\n",
        "\n",
        "* библиотека Python с открытым исходным кодом\n",
        "* области применения:\n",
        "  * извлечение информации\n",
        "  * обработка естественного языка\n",
        "* задачи:\n",
        "  * тематическое моделирование\n",
        "  * индексирование документов\n",
        "  * поиск сходства\n",
        "\n",
        "При использовании любой библиотеки, нужно использовать ее [документацию](https://radimrehurek.com/gensim/index.html)"
      ]
    },
    {
      "cell_type": "markdown",
      "metadata": {
        "id": "XZpatL5LU0kw"
      },
      "source": [
        "Загрузим корпус текстов Шекспира напрямую из GitHub с помощью команды shell `wget`"
      ]
    },
    {
      "cell_type": "code",
      "execution_count": null,
      "metadata": {
        "colab": {
          "base_uri": "https://localhost:8080/"
        },
        "id": "_fgT4hTzMOaw",
        "outputId": "a8a00a70-dd5f-4a42-ede6-1cb972e0f872"
      },
      "outputs": [
        {
          "output_type": "stream",
          "name": "stdout",
          "text": [
            "--2024-01-22 04:35:40--  https://raw.githubusercontent.com/karpathy/char-rnn/master/data/tinyshakespeare/input.txt\n",
            "Resolving raw.githubusercontent.com (raw.githubusercontent.com)... 185.199.108.133, 185.199.109.133, 185.199.111.133, ...\n",
            "Connecting to raw.githubusercontent.com (raw.githubusercontent.com)|185.199.108.133|:443... connected.\n",
            "HTTP request sent, awaiting response... 200 OK\n",
            "Length: 1115394 (1.1M) [text/plain]\n",
            "Saving to: ‘input.txt’\n",
            "\n",
            "input.txt           100%[===================>]   1.06M  --.-KB/s    in 0.07s   \n",
            "\n",
            "2024-01-22 04:35:40 (15.8 MB/s) - ‘input.txt’ saved [1115394/1115394]\n",
            "\n"
          ]
        }
      ],
      "source": [
        "!wget https://raw.githubusercontent.com/karpathy/char-rnn/master/data/tinyshakespeare/input.txt"
      ]
    },
    {
      "cell_type": "code",
      "execution_count": null,
      "metadata": {
        "colab": {
          "base_uri": "https://localhost:8080/",
          "height": 35
        },
        "id": "gMxeYQ4XYT3Y",
        "outputId": "09508941-a62e-4380-c599-86c36926d552"
      },
      "outputs": [
        {
          "output_type": "execute_result",
          "data": {
            "text/plain": [
              "'First Citizen:\\nBefore we proceed any further, hear me speak.\\n\\nAll:\\nSpeak, speak.\\n\\nFirst Citizen:\\nYou'"
            ],
            "application/vnd.google.colaboratory.intrinsic+json": {
              "type": "string"
            }
          },
          "metadata": {},
          "execution_count": 3
        }
      ],
      "source": [
        "# прописываем путь к файлу\n",
        "file_path = 'input.txt'\n",
        "\n",
        "# открываем файл для чтения ('r')\n",
        "with open(file_path, 'r') as file:\n",
        "    # записываем содержимое файла в переменную\n",
        "    text_content = file.read()\n",
        "\n",
        "# выведем на экран часть содержимого\n",
        "text_content[:100]"
      ]
    },
    {
      "cell_type": "markdown",
      "metadata": {
        "id": "07A5rGytK4Mx"
      },
      "source": [
        "Pre-processing / предобработка с помощью регулярных выражений и токенизатора NLTK"
      ]
    },
    {
      "cell_type": "code",
      "execution_count": null,
      "metadata": {
        "colab": {
          "base_uri": "https://localhost:8080/",
          "height": 35
        },
        "id": "p7JA0zb8Yx4n",
        "outputId": "10ec91ac-202c-442b-8371-43f670dcfa0c"
      },
      "outputs": [
        {
          "output_type": "execute_result",
          "data": {
            "text/plain": [
              "'first citizen before we proceed any further hear me speak all speak speak first citizen you are all '"
            ],
            "application/vnd.google.colaboratory.intrinsic+json": {
              "type": "string"
            }
          },
          "metadata": {},
          "execution_count": 4
        }
      ],
      "source": [
        "import re\n",
        "\n",
        "def clean_text(text):\n",
        "    # приводим текст к нижнему регистру\n",
        "    text = text.lower()\n",
        "\n",
        "    # удаляем все символы кроме букв\n",
        "    text = re.sub(r'[^a-z\\s]', '', text)\n",
        "\n",
        "    # удаляем двойные пробелы\n",
        "    text = re.sub(r'\\s+', ' ', text).strip()\n",
        "\n",
        "    return text\n",
        "\n",
        "cleaned_text = clean_text(text_content)\n",
        "\n",
        "# выведем на экран часть обработанного текста\n",
        "cleaned_text[:100]"
      ]
    },
    {
      "cell_type": "code",
      "execution_count": null,
      "metadata": {
        "colab": {
          "base_uri": "https://localhost:8080/"
        },
        "id": "l9FpkVl3Z9yU",
        "outputId": "65a900ab-1bcf-4abe-ca6c-16a32920e9ea"
      },
      "outputs": [
        {
          "output_type": "stream",
          "name": "stderr",
          "text": [
            "[nltk_data] Downloading package punkt to /root/nltk_data...\n",
            "[nltk_data]   Unzipping tokenizers/punkt.zip.\n"
          ]
        },
        {
          "output_type": "execute_result",
          "data": {
            "text/plain": [
              "['first',\n",
              " 'citizen',\n",
              " 'before',\n",
              " 'we',\n",
              " 'proceed',\n",
              " 'any',\n",
              " 'further',\n",
              " 'hear',\n",
              " 'me',\n",
              " 'speak']"
            ]
          },
          "metadata": {},
          "execution_count": 5
        }
      ],
      "source": [
        "import nltk\n",
        "from nltk.tokenize import word_tokenize\n",
        "\n",
        "nltk.download('punkt')\n",
        "\n",
        "# токенизация по словам\n",
        "tokens = word_tokenize(cleaned_text)\n",
        "\n",
        "# выведем на экран несколько токенов\n",
        "tokens[:10]"
      ]
    },
    {
      "cell_type": "markdown",
      "metadata": {
        "id": "iqpKoYebK9xM"
      },
      "source": [
        "Обучение\n",
        "\n",
        "`sentences` - итерируемый объект; список токенов либо список списков токенов (токенизированных предложений)\n",
        "\n",
        "`vector_size` - размерность вектора\n",
        "\n",
        "`window` - размер контекстного окна\n",
        "\n",
        "`min_count` - если слово встречается реже, оно не попадает в нашу модель\n",
        "\n",
        "`workers` - потоки (распараллеливание для ускорение работы)"
      ]
    },
    {
      "cell_type": "code",
      "execution_count": null,
      "metadata": {
        "id": "OqaNVtsEaWZP"
      },
      "outputs": [],
      "source": [
        "from gensim.models import Word2Vec\n",
        "\n",
        "# задаем параметры нашей модели\n",
        "model = Word2Vec(sentences=[tokens], vector_size=100, window=5, min_count=1, workers=4)"
      ]
    },
    {
      "cell_type": "code",
      "execution_count": null,
      "metadata": {
        "colab": {
          "base_uri": "https://localhost:8080/"
        },
        "id": "xe6LTqHZcuxT",
        "outputId": "787d4dfa-2c9d-4069-d04a-93e08e8f26f7"
      },
      "outputs": [
        {
          "output_type": "execute_result",
          "data": {
            "text/plain": [
              "array([ 3.0993388e-04,  2.4344164e-03, -1.4234134e-03,  3.3902135e-04,\n",
              "       -5.0136447e-04, -1.6091732e-02,  3.2627941e-03,  2.2791972e-02,\n",
              "       -1.1042583e-02, -1.7762078e-02, -3.6597378e-03, -1.5405690e-03,\n",
              "       -9.7852349e-03,  1.2478584e-02,  2.5990354e-03, -7.2583784e-03,\n",
              "       -4.4826027e-03, -1.3544309e-02,  2.0077960e-03,  3.9538628e-04,\n",
              "       -1.4317234e-03, -5.3780270e-04,  4.8290375e-03, -1.4868095e-04,\n",
              "        5.2706026e-03, -3.7946037e-03, -1.5596629e-04, -1.3292088e-02,\n",
              "       -6.4670295e-03,  1.0294678e-02,  7.8338804e-03, -1.2208835e-02,\n",
              "        2.7726702e-03, -1.1601759e-02, -5.0268029e-03,  1.0403274e-02,\n",
              "       -9.2993993e-03,  3.2981781e-03,  7.1992739e-03, -1.4952275e-02,\n",
              "       -8.3959708e-03, -8.6815543e-03, -1.3961735e-03,  1.2780608e-03,\n",
              "        9.4627552e-03, -3.8420085e-03, -6.9499738e-03,  1.9297763e-03,\n",
              "       -2.6639791e-03,  2.8018560e-04,  1.7777625e-03, -5.7056342e-05,\n",
              "       -4.2708353e-03, -5.7700970e-03,  1.5772636e-03, -8.5923343e-04,\n",
              "       -5.2646836e-03, -7.8322692e-03, -5.4979222e-03,  1.8600816e-03,\n",
              "       -7.0923138e-03, -2.0586844e-03, -5.1315110e-03,  2.2146930e-03,\n",
              "       -3.2719672e-03,  6.9216047e-03,  4.1402467e-03,  7.5688050e-03,\n",
              "       -3.0385186e-03, -2.6886987e-03,  1.2871214e-03,  4.4927471e-03,\n",
              "       -2.4140241e-04, -4.4392608e-04,  1.2146349e-02, -3.5404672e-03,\n",
              "       -7.4991728e-03, -3.6069253e-04, -6.3764793e-04, -1.4640884e-03,\n",
              "        2.8981576e-03, -5.6253141e-03,  2.3238172e-03, -3.3463200e-03,\n",
              "        5.5078063e-03, -3.8712955e-04,  5.3859921e-03, -1.4961079e-05,\n",
              "        1.5276589e-02,  7.6979902e-03,  1.7742654e-03, -4.5687906e-03,\n",
              "        5.1088710e-03, -5.7081031e-03,  1.4854994e-04,  6.7013740e-03,\n",
              "       -6.0165054e-03, -1.0192070e-02,  1.4410301e-02, -4.1362657e-03],\n",
              "      dtype=float32)"
            ]
          },
          "metadata": {},
          "execution_count": 7
        }
      ],
      "source": [
        "# выведем результат обучения модели\n",
        "model.wv['king']"
      ]
    },
    {
      "cell_type": "markdown",
      "metadata": {
        "id": "8yo-qD3Poe8u"
      },
      "source": [
        "### **Задача 2.** Считаем сходство"
      ]
    },
    {
      "cell_type": "markdown",
      "source": [],
      "metadata": {
        "id": "pqN2K2qYEgok"
      }
    },
    {
      "cell_type": "markdown",
      "metadata": {
        "id": "12Mv1ep9loUV"
      },
      "source": [
        "![image.png](data:image/png;base64,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)\n",
        "\n",
        "StandingFuture, CC BY-SA 4.0 <https://creativecommons.org/licenses/by-sa/4.0>, via Wikimedia Commons"
      ]
    },
    {
      "cell_type": "code",
      "execution_count": null,
      "metadata": {
        "colab": {
          "base_uri": "https://localhost:8080/"
        },
        "id": "NUZfHvbPiKyr",
        "outputId": "e70b0c9b-505c-4f09-8f3d-486f2228e6c7"
      },
      "outputs": [
        {
          "output_type": "execute_result",
          "data": {
            "text/plain": [
              "[('seen', 0.6131981015205383),\n",
              " ('youth', 0.6103989481925964),\n",
              " ('since', 0.6095167994499207),\n",
              " ('oer', 0.6086562871932983),\n",
              " ('merit', 0.6057994961738586),\n",
              " ('call', 0.6040176153182983),\n",
              " ('fathers', 0.599946141242981),\n",
              " ('best', 0.5997427701950073),\n",
              " ('custom', 0.5994468331336975),\n",
              " ('devise', 0.5908424258232117)]"
            ]
          },
          "metadata": {},
          "execution_count": 8
        }
      ],
      "source": [
        "model.wv.most_similar([\"king\"])"
      ]
    },
    {
      "cell_type": "code",
      "execution_count": null,
      "metadata": {
        "colab": {
          "base_uri": "https://localhost:8080/"
        },
        "id": "uKsvnekCjUGB",
        "outputId": "3a9aee1e-23e3-46f7-d404-42a9c9647ac0"
      },
      "outputs": [
        {
          "output_type": "execute_result",
          "data": {
            "text/plain": [
              "-0.029355673"
            ]
          },
          "metadata": {},
          "execution_count": 9
        }
      ],
      "source": [
        "model.wv.similarity('king', 'queen')"
      ]
    },
    {
      "cell_type": "code",
      "execution_count": null,
      "metadata": {
        "colab": {
          "base_uri": "https://localhost:8080/"
        },
        "id": "icXoXXLWjXcU",
        "outputId": "bc1f7d85-3a06-4e59-84a6-0cfaca267364"
      },
      "outputs": [
        {
          "output_type": "execute_result",
          "data": {
            "text/plain": [
              "0.027135193"
            ]
          },
          "metadata": {},
          "execution_count": 10
        }
      ],
      "source": [
        "model.wv.similarity('king', 'prince')"
      ]
    },
    {
      "cell_type": "code",
      "execution_count": null,
      "metadata": {
        "colab": {
          "base_uri": "https://localhost:8080/",
          "height": 35
        },
        "id": "muql6TUnjvKA",
        "outputId": "6c0be4fc-2151-4900-9e79-58119ce88c5c"
      },
      "outputs": [
        {
          "output_type": "execute_result",
          "data": {
            "text/plain": [
              "'queen'"
            ],
            "application/vnd.google.colaboratory.intrinsic+json": {
              "type": "string"
            }
          },
          "metadata": {},
          "execution_count": 11
        }
      ],
      "source": [
        "model.wv.doesnt_match(['king', 'prince', 'queen'])"
      ]
    },
    {
      "cell_type": "markdown",
      "metadata": {
        "id": "sPAEOUpiokYn"
      },
      "source": [
        "### **Задача 3.** Визуализация"
      ]
    },
    {
      "cell_type": "markdown",
      "source": [
        "Важный этап подготовки данных к визуализации - сокращение размерности вектора.\n",
        "\n",
        "Мы обучили вектора размером 100. Теперь нужно превратить их в 2D.\n",
        "\n",
        "Для этого используют разные алгоритмы, мы воспользуемся PCA (principal component analysis), статистической моделью, которая приводит всю информацию о полученном контенте к виду матрицы меньшей размерности, например, к виду таблицы (двухмерный массив), удобной для построения графиков и эксплораторного анализа данных.\n",
        "\n",
        "Чтобы понять, как работает PCA, можно почитать [этот блог](https://builtin.com/data-science/step-step-explanation-principal-component-analysis)."
      ],
      "metadata": {
        "id": "74pjl47wjOJK"
      }
    },
    {
      "cell_type": "code",
      "source": [
        "import matplotlib.pyplot as plt\n",
        "plt.style.use('seaborn-v0_8')\n",
        "\n",
        "from sklearn.decomposition import PCA"
      ],
      "metadata": {
        "id": "tPKUSN80e0EA"
      },
      "execution_count": null,
      "outputs": []
    },
    {
      "cell_type": "markdown",
      "source": [
        "Создаем функцию для отрисовки графика с помощью PCA."
      ],
      "metadata": {
        "id": "RAoawQZoqUv7"
      }
    },
    {
      "cell_type": "code",
      "source": [
        "def pca_scatterplot(model, words=None, sample=0):\n",
        "  word_vectors = [model.wv[w] for w in words]\n",
        "  # сократить размерность векторов до 2D\n",
        "  vectors_2d = PCA().fit_transform(word_vectors)\n",
        "  # отрисовка изображения, задаем размер 12 на 10\n",
        "  plt.figure(figsize=(12,10))\n",
        "  # задаем цвет точек и ссылаемся на данные по осям x (0) и y (1)\n",
        "  plt.scatter(vectors_2d[:,0], vectors_2d[:,1], c='g')\n",
        "  # добавляем подписи к данным, проходимся по списку слов\n",
        "  for i, word in enumerate(words):\n",
        "    # соотносим слово с его двухмерным вектором\n",
        "    plt.annotate(word, (vectors_2d[i, 0], vectors_2d[i, 1]))"
      ],
      "metadata": {
        "id": "-XQnwy42e5ru"
      },
      "execution_count": null,
      "outputs": []
    },
    {
      "cell_type": "markdown",
      "source": [
        "Для визуализации давайте посмотрим, какие эпитеты Шекспир использует для описания королей и королев!"
      ],
      "metadata": {
        "id": "zeuomOGcprBg"
      }
    },
    {
      "cell_type": "code",
      "source": [
        "pca_scatterplot(model, ['smart', 'handsome', 'beautiful', 'kind', 'gentle', 'old', 'young',\n",
        "                                'prince', 'princess', 'lady', 'king', 'queen', 'lord'])"
      ],
      "metadata": {
        "colab": {
          "base_uri": "https://localhost:8080/",
          "height": 719
        },
        "id": "CkT37h7Ke9jA",
        "outputId": "0dbeea34-1efa-4b6f-95af-2c998b66d1d5"
      },
      "execution_count": null,
      "outputs": [
        {
          "output_type": "display_data",
          "data": {
            "text/plain": [
              "<Figure size 960x800 with 1 Axes>"
            ],
            "image/png": "[encoded data removed]"
          },
          "metadata": {}
        }
      ]
    },
    {
      "cell_type": "markdown",
      "metadata": {
        "id": "h1bu4sMVooOJ"
      },
      "source": [
        "## Домашнее задание"
      ]
    },
    {
      "cell_type": "markdown",
      "source": [
        "**Базовый уровень:**\n",
        "\n",
        "* удалить стоп-слова в корпусе текстов Шескпира, лемматизировать корпус (достаточно выбрать что-то одно)\n",
        "* заново обучить вектора\n",
        "* найти сходства и различия между отдельными векторами\n",
        "* визуализировать данные с помощью кода в заданных ячейках (можно просто перезапустить эти ячейки без изменений)\n",
        "* представить выводы о проделанной работы: удалось ли вам обнаружить связи после удаления стоп-слов, лемматизации?\n",
        "\n",
        "**Уверенный уровень:**\n",
        "\n",
        "* обучить такую же модель Word2Vec на другом, более крупном корпусе\n",
        "* найти сходства и различия между отдельными векторами\n",
        "* визуализировать данные с помощью кода в заданных ячейках\n",
        "* представить выводы о проделанной работы: удалось ли вам обнаружить какие-либо связи и отношения?\n",
        "\n",
        "**Продвинутый уровень:**\n",
        "\n",
        "* обучить FastText с помощью [туториала](https://radimrehurek.com/gensim/auto_examples/tutorials/run_fasttext.html)\n",
        "* найти сходства и различия между отдельными векторами\n",
        "* объяснить принцип работы FastText своими словами\n",
        "\n",
        "**Опционально для любого уровня:**\n",
        "\n",
        "* поиграть с визуализацией: поменять стиль, цвета графики\n",
        "* выбрать другой набор слов для визуализации\n",
        "\n"
      ],
      "metadata": {
        "id": "V7eaBKkTzNeJ"
      }
    },
    {
      "cell_type": "code",
      "source": [
        "import nltk\n",
        "nltk.download('punkt')\n",
        "nltk.download('stopwords')\n",
        "\n",
        "import re\n",
        "from nltk.stem import WordNetLemmatizer\n",
        "from nltk.tokenize import word_tokenize\n",
        "from nltk.corpus import stopwords\n",
        "from gensim.models import Word2Vec\n",
        "import matplotlib.pyplot as plt\n",
        "from sklearn.decomposition import PCA\n",
        "\n",
        "!wget https://raw.githubusercontent.com/karpathy/char-rnn/master/data/tinyshakespeare/input.txt\n",
        "\n",
        "def clean_text(text):\n",
        "    text = text.lower()             # приводим текст к нижнему регистру\n",
        "    text = re.sub(r'[^a-z\\s]', '', text)     # удаляем все символы кроме букв\n",
        "    text = re.sub(r'\\s+', ' ', text).strip() # удаляем двойные пробелы\n",
        "    return text\n",
        "\n",
        "file_path = 'input.txt'            # прописываем путь к файлу\n",
        "\n",
        "with open(file_path, 'r') as file: # открываем файл для чтения ('r')\n",
        "    text_content = file.read()     # записываем содержимое файла в переменную\n",
        "\n",
        "cleaned_text = clean_text(text_content)\n",
        "\n",
        "tokens = word_tokenize(cleaned_text) # токенизация\n",
        "\n",
        "stop_words = set(stopwords.words('english')) # загружаем стоп-слова\n",
        "\n",
        "filtered_tokens = [word for word in tokens if word.lower() not in stop_words] # удаляем стоп-слова\n",
        "\n",
        "model1 = Word2Vec(sentences=[tokens], vector_size=100, window=5, min_count=1, workers=4) # задаем параметры исходной модели\n",
        "\n",
        "model2 = Word2Vec(sentences=[filtered_tokens], vector_size=100, window=5, min_count=1, workers=4) # задаем параметры нашей модели\n",
        "\n",
        "\n",
        "result1 = model1.wv.most_similar([\"king\"])\n",
        "result2 = model2.wv.most_similar([\"king\"])\n",
        "\n",
        "plt.style.use('seaborn-v0_8')\n",
        "\n",
        "def pca_scatterplot(model, words=None, sample=0):\n",
        "  word_vectors = [model.wv[w] for w in words]\n",
        "  vectors_2d = PCA().fit_transform(word_vectors) # сократить размерность векторов до 2D\n",
        "\n",
        "  plt.figure(figsize=(12,10)) # отрисовка изображения, задаем размер 12 на 10\n",
        "  plt.scatter(vectors_2d[:,0], vectors_2d[:,1], c='g')  # задаем цвет точек и ссылаемся на данные по осям x (0) и y (1)\n",
        "\n",
        "  for i, word in enumerate(words): # добавляем подписи к данным, проходимся по списку слов\n",
        "    plt.annotate(word, (vectors_2d[i, 0], vectors_2d[i, 1])) # соотносим слово с его двухмерным вектором\n",
        "\n",
        "pca_scatterplot(model2, ['smart', 'handsome', 'beautiful', 'kind', 'gentle', 'old', 'young',\n",
        "                                'prince', 'princess', 'lady', 'king', 'queen', 'lord'])\n"
      ],
      "metadata": {
        "id": "ipi_KBMp7JEV",
        "outputId": "47664f96-1f9e-420b-fd2b-67723891aeb1",
        "colab": {
          "base_uri": "https://localhost:8080/",
          "height": 1000
        }
      },
      "execution_count": 13,
      "outputs": [
        {
          "output_type": "stream",
          "name": "stdout",
          "text": [
            "--2024-01-29 16:22:05--  https://raw.githubusercontent.com/karpathy/char-rnn/master/data/tinyshakespeare/input.txt\n",
            "Resolving raw.githubusercontent.com (raw.githubusercontent.com)... 185.199.108.133, 185.199.109.133, 185.199.110.133, ...\n",
            "Connecting to raw.githubusercontent.com (raw.githubusercontent.com)|185.199.108.133|:443... connected.\n",
            "HTTP request sent, awaiting response... 200 OK\n",
            "Length: 1115394 (1.1M) [text/plain]\n",
            "Saving to: ‘input.txt.2’\n",
            "\n",
            "\rinput.txt.2           0%[                    ]       0  --.-KB/s               \rinput.txt.2         100%[===================>]   1.06M  --.-KB/s    in 0.02s   \n",
            "\n",
            "2024-01-29 16:22:05 (55.6 MB/s) - ‘input.txt.2’ saved [1115394/1115394]\n",
            "\n"
          ]
        },
        {
          "output_type": "stream",
          "name": "stderr",
          "text": [
            "[nltk_data] Downloading package punkt to /root/nltk_data...\n",
            "[nltk_data]   Package punkt is already up-to-date!\n",
            "[nltk_data] Downloading package stopwords to /root/nltk_data...\n",
            "[nltk_data]   Package stopwords is already up-to-date!\n"
          ]
        },
        {
          "output_type": "display_data",
          "data": {
            "text/plain": [
              "<Figure size 1200x1000 with 1 Axes>"
            ],
            "image/png": "[encoded data removed]"
          },
          "metadata": {}
        }
      ]
    },
    {
      "cell_type": "markdown",
      "source": [
        "Вывод: после удаления стоп-слов взаимное расположение выбранных слов значительно изменилось  \n"
      ],
      "metadata": {
        "id": "HniPMKH0EoID"
      }
    },
    {
      "cell_type": "code",
      "source": [],
      "metadata": {
        "id": "nL4rPmvpFGCm"
      },
      "execution_count": null,
      "outputs": []
    }
  ],
  "metadata": {
    "colab": {
      "collapsed_sections": [
        "nO3bXBygoQM5",
        "AUWFvvLHoTgC",
        "DpSEGmgYoWid",
        "8yo-qD3Poe8u",
        "h1bu4sMVooOJ"
      ],
      "provenance": [],
      "include_colab_link": true
    },
    "kernelspec": {
      "display_name": "Python 3",
      "name": "python3"
    },
    "language_info": {
      "name": "python"
    }
  },
  "nbformat": 4,
  "nbformat_minor": 0
}